{
 "cells": [
  {
   "cell_type": "markdown",
   "metadata": {},
   "source": [
    "# Expectation Suite\n",
    "### Introduction\n",
    "In order to validate your data, Great Expectations is a package that offers a battery-included set of logic to get up-and-running fast. Fully figuring out how Great Expectations works and applying it to your project, however, can be somewhat involved.\n",
    "\n",
    "Therefore, this bootstrapped project helps you with that by making a few choices for you and offering scripts and notebooks to get you up and running fast. The choices already made here are:\n",
    "- Great Expectations output will be stored on S3\n",
    "- The rendered Data Docs site will be stored on S3\n",
    "- You will write your own data loading logic to read data into memory as a pandas DataFrame\n",
    "- You will write your own set of expectations to test the quality of this data\n",
    "- The validation logic will be deployed as Docker container via AWS Lambda\n",
    "\n",
    "To set you up for the above, the configuration file had you enter parameters that will be used throughout this project. Assuming these were properly set, you can now continue to set up your expectation suite!\n",
    "\n",
    "### Description\n",
    "This notebook can be used to generate a so-called expectation suite that can be used to run validations against your data. An expectation suite is Great Expectations jargon for a collection of expectations (or tests) that you want to run your data against. \n",
    "\n",
    "This notebook helps you to set up such a set of expectations, by loading a batch of data and writing expectations that can be run on it. After doing so, this set of expectations will be saved as an expectation suite.\n",
    "\n",
    "In the last step, this expectation suite will be connected to a checkpoint, which is an object which can be called by validation logic to run new data batches against. Hence, after setting up an expectation suite and checkpoint using this notebook, the next step is to finalize the AWS lambda function found in lambda_function.py and deploy that on AWS as a Docker image. To assist with these steps Terraform configurations, a Dockerfile and a bash script ('build_image_store_on_ecr.sh) were automatically generated.\n",
    "\n",
    "### Dependencies\n",
    "\n",
    "#### Virtual environment\n",
    "In order to run the logic contained within this notebook, make sure that it was started up from a virtual environment that contained all required Python dependencies. The easiest way to assure this is to first make a virtual environment for the project and then call initialize_project.py from within it.\n",
    "\n",
    "To create a new virtual environment, e.g. for python 3.8, and installing the packages that can be found in the requirements.txt file, the commands are:\n",
    "```sh\n",
    "conda create --name <virtual_environment_name> python=3.8\n",
    "conda activate <virtual_environment_name>\n",
    "pip install -r </path/to/requirements.txt>\n",
    "```\n",
    "\n",
    "#### S3 buckets\n",
    "For testing, Great Expectations is configured to interact with S3 buckets on AWS. To be able to run all the code in this notebook the **store_bucket** and **site_bucket** as configured in the testing_config.yml, must be provisioned.\n",
    "\n",
    "To do so, auto-generated Terraform files can be found in the *terraform* directory of this project. To use these configurations to generate S3 buckets, open a terminal in this directory and run the following commands:\n",
    "\n",
    "```bash\n",
    "# Initialize Terraform\n",
    "terraform init\n",
    "\n",
    "# Generate deployment plan, enter yes at the prompt if the plan is correct\n",
    "terraform apply\n",
    "```"
   ]
  },
  {
   "cell_type": "markdown",
   "metadata": {},
   "source": [
    "#### Imports and configurations\n",
    "In the cell below, packages are imported and configurations are loaded from the project_config.yml file"
   ]
  },
  {
   "cell_type": "code",
   "execution_count": 1,
   "metadata": {},
   "outputs": [],
   "source": [
    "# -- Imports\n",
    "import great_expectations as ge\n",
    "from great_expectations.core.batch import RuntimeBatchRequest\n",
    "import boto3\n",
    "from supporting_functions import (TestingConfiguration,\n",
    "                                  get_file_keys_from_s3,\n",
    "                                  checkpoint_without_datadocs_update, \n",
    "                                  print_ge_site_link,\n",
    "                                  tutorial_invoke_lambdas)\n",
    "from supporting_functions import load_csv_from_s3 as load_data\n",
    "from supporting_functions import load_csv_from_s3_2\n",
    "\n",
    "\n",
    "import os\n",
    "\n",
    "# -- Load parameters from configuration file\n",
    "test_config = TestingConfiguration(\"project_config.yml\")\n",
    "test_config.load_config()\n",
    "\n",
    "# -- Constant parameters\n",
    "PATH_TUTORIAL_DATA = \"data/\"\n",
    "ROW_COUNT_DELTA = .05"
   ]
  },
  {
   "cell_type": "markdown",
   "metadata": {},
   "source": [
    "#### Initialization of objects\n",
    "Next, objects required to interact with AWS and the Great Expectations configurations are initialized.\n",
    "\n",
    "Specifically for Great Expectations, the `context` object is initialized. By loading the GE configuration file (found in the subdirectory great_expectations), this object stores important parameters for you to interact with GE and automatically interact with S3 buckets for storing output, pulling checkpoints and generating Data Docs sites. For more GE information, check out [their website](https://docs.greatexpectations.io/docs/)"
   ]
  },
  {
   "cell_type": "code",
   "execution_count": 2,
   "metadata": {},
   "outputs": [
    {
     "name": "stderr",
     "output_type": "stream",
     "text": [
      "Invalid store configuration: Please check the configuration of your TupleS3StoreBackend named expectations_store\n",
      "Invalid store configuration: Please check the configuration of your TupleS3StoreBackend named validations_store\n",
      "Invalid store configuration: Please check the configuration of your TupleS3StoreBackend named checkpoint_store\n",
      "/Users/jschra/opt/anaconda3/envs/grater_expectations_2/lib/python3.8/site-packages/great_expectations/datasource/data_connector/runtime_data_connector.py:133: DeprecationWarning: Specifying batch_identifiers as part of the RuntimeDataConnector config is deprecated as of v0.15.1 and will be removed by v0.18. Please configure batch_identifiers as part of Assets instead.\n",
      "  warnings.warn(\n"
     ]
    }
   ],
   "source": [
    "# -- 1. Initialize GE and S3 objects\n",
    "s3_client = boto3.client(\"s3\")\n",
    "bucket = boto3.resource(\"s3\").Bucket(test_config.data_bucket)\n",
    "context = ge.data_context.DataContext()"
   ]
  },
  {
   "cell_type": "markdown",
   "metadata": {},
   "source": [
    "#### Uploading tutorial data to S3\n"
   ]
  },
  {
   "cell_type": "code",
   "execution_count": 3,
   "metadata": {},
   "outputs": [
    {
     "ename": "S3UploadFailedError",
     "evalue": "Failed to upload /Users/jschra/GIT/Grater_expectations/github_repo/tutorial_dev/data/yellow_tripdata_2021-12.csv to ge-data-bucket-jorik/data/yellow_tripdata_2021-12.csv: An error occurred (NoSuchBucket) when calling the PutObject operation: The specified bucket does not exist",
     "output_type": "error",
     "traceback": [
      "\u001b[0;31m---------------------------------------------------------------------------\u001b[0m",
      "\u001b[0;31mNoSuchBucket\u001b[0m                              Traceback (most recent call last)",
      "File \u001b[0;32m~/opt/anaconda3/envs/grater_expectations_2/lib/python3.8/site-packages/boto3/s3/transfer.py:287\u001b[0m, in \u001b[0;36mS3Transfer.upload_file\u001b[0;34m(self, filename, bucket, key, callback, extra_args)\u001b[0m\n\u001b[1;32m    <a href='file:///Users/jschra/opt/anaconda3/envs/grater_expectations_2/lib/python3.8/site-packages/boto3/s3/transfer.py?line=285'>286</a>\u001b[0m \u001b[39mtry\u001b[39;00m:\n\u001b[0;32m--> <a href='file:///Users/jschra/opt/anaconda3/envs/grater_expectations_2/lib/python3.8/site-packages/boto3/s3/transfer.py?line=286'>287</a>\u001b[0m     future\u001b[39m.\u001b[39;49mresult()\n\u001b[1;32m    <a href='file:///Users/jschra/opt/anaconda3/envs/grater_expectations_2/lib/python3.8/site-packages/boto3/s3/transfer.py?line=287'>288</a>\u001b[0m \u001b[39m# If a client error was raised, add the backwards compatibility layer\u001b[39;00m\n\u001b[1;32m    <a href='file:///Users/jschra/opt/anaconda3/envs/grater_expectations_2/lib/python3.8/site-packages/boto3/s3/transfer.py?line=288'>289</a>\u001b[0m \u001b[39m# that raises a S3UploadFailedError. These specific errors were only\u001b[39;00m\n\u001b[1;32m    <a href='file:///Users/jschra/opt/anaconda3/envs/grater_expectations_2/lib/python3.8/site-packages/boto3/s3/transfer.py?line=289'>290</a>\u001b[0m \u001b[39m# ever thrown for upload_parts but now can be thrown for any related\u001b[39;00m\n\u001b[1;32m    <a href='file:///Users/jschra/opt/anaconda3/envs/grater_expectations_2/lib/python3.8/site-packages/boto3/s3/transfer.py?line=290'>291</a>\u001b[0m \u001b[39m# client error.\u001b[39;00m\n",
      "File \u001b[0;32m~/opt/anaconda3/envs/grater_expectations_2/lib/python3.8/site-packages/s3transfer/futures.py:106\u001b[0m, in \u001b[0;36mTransferFuture.result\u001b[0;34m(self)\u001b[0m\n\u001b[1;32m    <a href='file:///Users/jschra/opt/anaconda3/envs/grater_expectations_2/lib/python3.8/site-packages/s3transfer/futures.py?line=101'>102</a>\u001b[0m \u001b[39mtry\u001b[39;00m:\n\u001b[1;32m    <a href='file:///Users/jschra/opt/anaconda3/envs/grater_expectations_2/lib/python3.8/site-packages/s3transfer/futures.py?line=102'>103</a>\u001b[0m     \u001b[39m# Usually the result() method blocks until the transfer is done,\u001b[39;00m\n\u001b[1;32m    <a href='file:///Users/jschra/opt/anaconda3/envs/grater_expectations_2/lib/python3.8/site-packages/s3transfer/futures.py?line=103'>104</a>\u001b[0m     \u001b[39m# however if a KeyboardInterrupt is raised we want want to exit\u001b[39;00m\n\u001b[1;32m    <a href='file:///Users/jschra/opt/anaconda3/envs/grater_expectations_2/lib/python3.8/site-packages/s3transfer/futures.py?line=104'>105</a>\u001b[0m     \u001b[39m# out of this and propogate the exception.\u001b[39;00m\n\u001b[0;32m--> <a href='file:///Users/jschra/opt/anaconda3/envs/grater_expectations_2/lib/python3.8/site-packages/s3transfer/futures.py?line=105'>106</a>\u001b[0m     \u001b[39mreturn\u001b[39;00m \u001b[39mself\u001b[39;49m\u001b[39m.\u001b[39;49m_coordinator\u001b[39m.\u001b[39;49mresult()\n\u001b[1;32m    <a href='file:///Users/jschra/opt/anaconda3/envs/grater_expectations_2/lib/python3.8/site-packages/s3transfer/futures.py?line=106'>107</a>\u001b[0m \u001b[39mexcept\u001b[39;00m \u001b[39mKeyboardInterrupt\u001b[39;00m \u001b[39mas\u001b[39;00m e:\n",
      "File \u001b[0;32m~/opt/anaconda3/envs/grater_expectations_2/lib/python3.8/site-packages/s3transfer/futures.py:265\u001b[0m, in \u001b[0;36mTransferCoordinator.result\u001b[0;34m(self)\u001b[0m\n\u001b[1;32m    <a href='file:///Users/jschra/opt/anaconda3/envs/grater_expectations_2/lib/python3.8/site-packages/s3transfer/futures.py?line=263'>264</a>\u001b[0m \u001b[39mif\u001b[39;00m \u001b[39mself\u001b[39m\u001b[39m.\u001b[39m_exception:\n\u001b[0;32m--> <a href='file:///Users/jschra/opt/anaconda3/envs/grater_expectations_2/lib/python3.8/site-packages/s3transfer/futures.py?line=264'>265</a>\u001b[0m     \u001b[39mraise\u001b[39;00m \u001b[39mself\u001b[39m\u001b[39m.\u001b[39m_exception\n\u001b[1;32m    <a href='file:///Users/jschra/opt/anaconda3/envs/grater_expectations_2/lib/python3.8/site-packages/s3transfer/futures.py?line=265'>266</a>\u001b[0m \u001b[39mreturn\u001b[39;00m \u001b[39mself\u001b[39m\u001b[39m.\u001b[39m_result\n",
      "File \u001b[0;32m~/opt/anaconda3/envs/grater_expectations_2/lib/python3.8/site-packages/s3transfer/tasks.py:126\u001b[0m, in \u001b[0;36mTask.__call__\u001b[0;34m(self)\u001b[0m\n\u001b[1;32m    <a href='file:///Users/jschra/opt/anaconda3/envs/grater_expectations_2/lib/python3.8/site-packages/s3transfer/tasks.py?line=124'>125</a>\u001b[0m     \u001b[39mif\u001b[39;00m \u001b[39mnot\u001b[39;00m \u001b[39mself\u001b[39m\u001b[39m.\u001b[39m_transfer_coordinator\u001b[39m.\u001b[39mdone():\n\u001b[0;32m--> <a href='file:///Users/jschra/opt/anaconda3/envs/grater_expectations_2/lib/python3.8/site-packages/s3transfer/tasks.py?line=125'>126</a>\u001b[0m         \u001b[39mreturn\u001b[39;00m \u001b[39mself\u001b[39;49m\u001b[39m.\u001b[39;49m_execute_main(kwargs)\n\u001b[1;32m    <a href='file:///Users/jschra/opt/anaconda3/envs/grater_expectations_2/lib/python3.8/site-packages/s3transfer/tasks.py?line=126'>127</a>\u001b[0m \u001b[39mexcept\u001b[39;00m \u001b[39mException\u001b[39;00m \u001b[39mas\u001b[39;00m e:\n",
      "File \u001b[0;32m~/opt/anaconda3/envs/grater_expectations_2/lib/python3.8/site-packages/s3transfer/tasks.py:150\u001b[0m, in \u001b[0;36mTask._execute_main\u001b[0;34m(self, kwargs)\u001b[0m\n\u001b[1;32m    <a href='file:///Users/jschra/opt/anaconda3/envs/grater_expectations_2/lib/python3.8/site-packages/s3transfer/tasks.py?line=145'>146</a>\u001b[0m logger\u001b[39m.\u001b[39mdebug(\n\u001b[1;32m    <a href='file:///Users/jschra/opt/anaconda3/envs/grater_expectations_2/lib/python3.8/site-packages/s3transfer/tasks.py?line=146'>147</a>\u001b[0m     \u001b[39m\"\u001b[39m\u001b[39mExecuting task \u001b[39m\u001b[39m%s\u001b[39;00m\u001b[39m with kwargs \u001b[39m\u001b[39m%s\u001b[39;00m\u001b[39m\"\u001b[39m \u001b[39m%\u001b[39m (\u001b[39mself\u001b[39m, kwargs_to_display)\n\u001b[1;32m    <a href='file:///Users/jschra/opt/anaconda3/envs/grater_expectations_2/lib/python3.8/site-packages/s3transfer/tasks.py?line=147'>148</a>\u001b[0m )\n\u001b[0;32m--> <a href='file:///Users/jschra/opt/anaconda3/envs/grater_expectations_2/lib/python3.8/site-packages/s3transfer/tasks.py?line=149'>150</a>\u001b[0m return_value \u001b[39m=\u001b[39m \u001b[39mself\u001b[39;49m\u001b[39m.\u001b[39;49m_main(\u001b[39m*\u001b[39;49m\u001b[39m*\u001b[39;49mkwargs)\n\u001b[1;32m    <a href='file:///Users/jschra/opt/anaconda3/envs/grater_expectations_2/lib/python3.8/site-packages/s3transfer/tasks.py?line=150'>151</a>\u001b[0m \u001b[39m# If the task is the final task, then set the TransferFuture's\u001b[39;00m\n\u001b[1;32m    <a href='file:///Users/jschra/opt/anaconda3/envs/grater_expectations_2/lib/python3.8/site-packages/s3transfer/tasks.py?line=151'>152</a>\u001b[0m \u001b[39m# value to the return value from main().\u001b[39;00m\n",
      "File \u001b[0;32m~/opt/anaconda3/envs/grater_expectations_2/lib/python3.8/site-packages/s3transfer/upload.py:694\u001b[0m, in \u001b[0;36mPutObjectTask._main\u001b[0;34m(self, client, fileobj, bucket, key, extra_args)\u001b[0m\n\u001b[1;32m    <a href='file:///Users/jschra/opt/anaconda3/envs/grater_expectations_2/lib/python3.8/site-packages/s3transfer/upload.py?line=692'>693</a>\u001b[0m \u001b[39mwith\u001b[39;00m fileobj \u001b[39mas\u001b[39;00m body:\n\u001b[0;32m--> <a href='file:///Users/jschra/opt/anaconda3/envs/grater_expectations_2/lib/python3.8/site-packages/s3transfer/upload.py?line=693'>694</a>\u001b[0m     client\u001b[39m.\u001b[39;49mput_object(Bucket\u001b[39m=\u001b[39;49mbucket, Key\u001b[39m=\u001b[39;49mkey, Body\u001b[39m=\u001b[39;49mbody, \u001b[39m*\u001b[39;49m\u001b[39m*\u001b[39;49mextra_args)\n",
      "File \u001b[0;32m~/opt/anaconda3/envs/grater_expectations_2/lib/python3.8/site-packages/botocore/client.py:391\u001b[0m, in \u001b[0;36mClientCreator._create_api_method.<locals>._api_call\u001b[0;34m(self, *args, **kwargs)\u001b[0m\n\u001b[1;32m    <a href='file:///Users/jschra/opt/anaconda3/envs/grater_expectations_2/lib/python3.8/site-packages/botocore/client.py?line=389'>390</a>\u001b[0m \u001b[39m# The \"self\" in this scope is referring to the BaseClient.\u001b[39;00m\n\u001b[0;32m--> <a href='file:///Users/jschra/opt/anaconda3/envs/grater_expectations_2/lib/python3.8/site-packages/botocore/client.py?line=390'>391</a>\u001b[0m \u001b[39mreturn\u001b[39;00m \u001b[39mself\u001b[39;49m\u001b[39m.\u001b[39;49m_make_api_call(operation_name, kwargs)\n",
      "File \u001b[0;32m~/opt/anaconda3/envs/grater_expectations_2/lib/python3.8/site-packages/botocore/client.py:719\u001b[0m, in \u001b[0;36mBaseClient._make_api_call\u001b[0;34m(self, operation_name, api_params)\u001b[0m\n\u001b[1;32m    <a href='file:///Users/jschra/opt/anaconda3/envs/grater_expectations_2/lib/python3.8/site-packages/botocore/client.py?line=717'>718</a>\u001b[0m     error_class \u001b[39m=\u001b[39m \u001b[39mself\u001b[39m\u001b[39m.\u001b[39mexceptions\u001b[39m.\u001b[39mfrom_code(error_code)\n\u001b[0;32m--> <a href='file:///Users/jschra/opt/anaconda3/envs/grater_expectations_2/lib/python3.8/site-packages/botocore/client.py?line=718'>719</a>\u001b[0m     \u001b[39mraise\u001b[39;00m error_class(parsed_response, operation_name)\n\u001b[1;32m    <a href='file:///Users/jschra/opt/anaconda3/envs/grater_expectations_2/lib/python3.8/site-packages/botocore/client.py?line=719'>720</a>\u001b[0m \u001b[39melse\u001b[39;00m:\n",
      "\u001b[0;31mNoSuchBucket\u001b[0m: An error occurred (NoSuchBucket) when calling the PutObject operation: The specified bucket does not exist",
      "\nDuring handling of the above exception, another exception occurred:\n",
      "\u001b[0;31mS3UploadFailedError\u001b[0m                       Traceback (most recent call last)",
      "\u001b[1;32m/Users/jschra/GIT/Grater_expectations/github_repo/tutorial_dev/tutorial_notebook.ipynb Cell 7'\u001b[0m in \u001b[0;36m<cell line: 1>\u001b[0;34m()\u001b[0m\n\u001b[1;32m      <a href='vscode-notebook-cell:/Users/jschra/GIT/Grater_expectations/github_repo/tutorial_dev/tutorial_notebook.ipynb#ch0000006?line=2'>3</a>\u001b[0m path_file \u001b[39m=\u001b[39m os\u001b[39m.\u001b[39mpath\u001b[39m.\u001b[39mabspath(PATH_TUTORIAL_DATA\u001b[39m+\u001b[39mdataset)\n\u001b[1;32m      <a href='vscode-notebook-cell:/Users/jschra/GIT/Grater_expectations/github_repo/tutorial_dev/tutorial_notebook.ipynb#ch0000006?line=4'>5</a>\u001b[0m \u001b[39m# -- Upload to S3\u001b[39;00m\n\u001b[0;32m----> <a href='vscode-notebook-cell:/Users/jschra/GIT/Grater_expectations/github_repo/tutorial_dev/tutorial_notebook.ipynb#ch0000006?line=5'>6</a>\u001b[0m bucket\u001b[39m.\u001b[39;49mmeta\u001b[39m.\u001b[39;49mclient\u001b[39m.\u001b[39;49mupload_file(\n\u001b[1;32m      <a href='vscode-notebook-cell:/Users/jschra/GIT/Grater_expectations/github_repo/tutorial_dev/tutorial_notebook.ipynb#ch0000006?line=6'>7</a>\u001b[0m     Filename\u001b[39m=\u001b[39;49mpath_file, \n\u001b[1;32m      <a href='vscode-notebook-cell:/Users/jschra/GIT/Grater_expectations/github_repo/tutorial_dev/tutorial_notebook.ipynb#ch0000006?line=7'>8</a>\u001b[0m     Bucket\u001b[39m=\u001b[39;49mtest_config\u001b[39m.\u001b[39;49mdata_bucket, \n\u001b[1;32m      <a href='vscode-notebook-cell:/Users/jschra/GIT/Grater_expectations/github_repo/tutorial_dev/tutorial_notebook.ipynb#ch0000006?line=8'>9</a>\u001b[0m     Key\u001b[39m=\u001b[39;49mPATH_TUTORIAL_DATA\u001b[39m+\u001b[39;49mdataset\n\u001b[1;32m     <a href='vscode-notebook-cell:/Users/jschra/GIT/Grater_expectations/github_repo/tutorial_dev/tutorial_notebook.ipynb#ch0000006?line=9'>10</a>\u001b[0m )\n",
      "File \u001b[0;32m~/opt/anaconda3/envs/grater_expectations_2/lib/python3.8/site-packages/boto3/s3/inject.py:130\u001b[0m, in \u001b[0;36mupload_file\u001b[0;34m(self, Filename, Bucket, Key, ExtraArgs, Callback, Config)\u001b[0m\n\u001b[1;32m     <a href='file:///Users/jschra/opt/anaconda3/envs/grater_expectations_2/lib/python3.8/site-packages/boto3/s3/inject.py?line=95'>96</a>\u001b[0m \u001b[39m\"\"\"Upload a file to an S3 object.\u001b[39;00m\n\u001b[1;32m     <a href='file:///Users/jschra/opt/anaconda3/envs/grater_expectations_2/lib/python3.8/site-packages/boto3/s3/inject.py?line=96'>97</a>\u001b[0m \n\u001b[1;32m     <a href='file:///Users/jschra/opt/anaconda3/envs/grater_expectations_2/lib/python3.8/site-packages/boto3/s3/inject.py?line=97'>98</a>\u001b[0m \u001b[39mUsage::\u001b[39;00m\n\u001b[0;32m   (...)\u001b[0m\n\u001b[1;32m    <a href='file:///Users/jschra/opt/anaconda3/envs/grater_expectations_2/lib/python3.8/site-packages/boto3/s3/inject.py?line=126'>127</a>\u001b[0m \u001b[39m    transfer.\u001b[39;00m\n\u001b[1;32m    <a href='file:///Users/jschra/opt/anaconda3/envs/grater_expectations_2/lib/python3.8/site-packages/boto3/s3/inject.py?line=127'>128</a>\u001b[0m \u001b[39m\"\"\"\u001b[39;00m\n\u001b[1;32m    <a href='file:///Users/jschra/opt/anaconda3/envs/grater_expectations_2/lib/python3.8/site-packages/boto3/s3/inject.py?line=128'>129</a>\u001b[0m \u001b[39mwith\u001b[39;00m S3Transfer(\u001b[39mself\u001b[39m, Config) \u001b[39mas\u001b[39;00m transfer:\n\u001b[0;32m--> <a href='file:///Users/jschra/opt/anaconda3/envs/grater_expectations_2/lib/python3.8/site-packages/boto3/s3/inject.py?line=129'>130</a>\u001b[0m     \u001b[39mreturn\u001b[39;00m transfer\u001b[39m.\u001b[39;49mupload_file(\n\u001b[1;32m    <a href='file:///Users/jschra/opt/anaconda3/envs/grater_expectations_2/lib/python3.8/site-packages/boto3/s3/inject.py?line=130'>131</a>\u001b[0m         filename\u001b[39m=\u001b[39;49mFilename, bucket\u001b[39m=\u001b[39;49mBucket, key\u001b[39m=\u001b[39;49mKey,\n\u001b[1;32m    <a href='file:///Users/jschra/opt/anaconda3/envs/grater_expectations_2/lib/python3.8/site-packages/boto3/s3/inject.py?line=131'>132</a>\u001b[0m         extra_args\u001b[39m=\u001b[39;49mExtraArgs, callback\u001b[39m=\u001b[39;49mCallback)\n",
      "File \u001b[0;32m~/opt/anaconda3/envs/grater_expectations_2/lib/python3.8/site-packages/boto3/s3/transfer.py:293\u001b[0m, in \u001b[0;36mS3Transfer.upload_file\u001b[0;34m(self, filename, bucket, key, callback, extra_args)\u001b[0m\n\u001b[1;32m    <a href='file:///Users/jschra/opt/anaconda3/envs/grater_expectations_2/lib/python3.8/site-packages/boto3/s3/transfer.py?line=287'>288</a>\u001b[0m \u001b[39m# If a client error was raised, add the backwards compatibility layer\u001b[39;00m\n\u001b[1;32m    <a href='file:///Users/jschra/opt/anaconda3/envs/grater_expectations_2/lib/python3.8/site-packages/boto3/s3/transfer.py?line=288'>289</a>\u001b[0m \u001b[39m# that raises a S3UploadFailedError. These specific errors were only\u001b[39;00m\n\u001b[1;32m    <a href='file:///Users/jschra/opt/anaconda3/envs/grater_expectations_2/lib/python3.8/site-packages/boto3/s3/transfer.py?line=289'>290</a>\u001b[0m \u001b[39m# ever thrown for upload_parts but now can be thrown for any related\u001b[39;00m\n\u001b[1;32m    <a href='file:///Users/jschra/opt/anaconda3/envs/grater_expectations_2/lib/python3.8/site-packages/boto3/s3/transfer.py?line=290'>291</a>\u001b[0m \u001b[39m# client error.\u001b[39;00m\n\u001b[1;32m    <a href='file:///Users/jschra/opt/anaconda3/envs/grater_expectations_2/lib/python3.8/site-packages/boto3/s3/transfer.py?line=291'>292</a>\u001b[0m \u001b[39mexcept\u001b[39;00m ClientError \u001b[39mas\u001b[39;00m e:\n\u001b[0;32m--> <a href='file:///Users/jschra/opt/anaconda3/envs/grater_expectations_2/lib/python3.8/site-packages/boto3/s3/transfer.py?line=292'>293</a>\u001b[0m     \u001b[39mraise\u001b[39;00m S3UploadFailedError(\n\u001b[1;32m    <a href='file:///Users/jschra/opt/anaconda3/envs/grater_expectations_2/lib/python3.8/site-packages/boto3/s3/transfer.py?line=293'>294</a>\u001b[0m         \u001b[39m\"\u001b[39m\u001b[39mFailed to upload \u001b[39m\u001b[39m%s\u001b[39;00m\u001b[39m to \u001b[39m\u001b[39m%s\u001b[39;00m\u001b[39m: \u001b[39m\u001b[39m%s\u001b[39;00m\u001b[39m\"\u001b[39m \u001b[39m%\u001b[39m (\n\u001b[1;32m    <a href='file:///Users/jschra/opt/anaconda3/envs/grater_expectations_2/lib/python3.8/site-packages/boto3/s3/transfer.py?line=294'>295</a>\u001b[0m             filename, \u001b[39m'\u001b[39m\u001b[39m/\u001b[39m\u001b[39m'\u001b[39m\u001b[39m.\u001b[39mjoin([bucket, key]), e))\n",
      "\u001b[0;31mS3UploadFailedError\u001b[0m: Failed to upload /Users/jschra/GIT/Grater_expectations/github_repo/tutorial_dev/data/yellow_tripdata_2021-12.csv to ge-data-bucket-jorik/data/yellow_tripdata_2021-12.csv: An error occurred (NoSuchBucket) when calling the PutObject operation: The specified bucket does not exist"
     ]
    }
   ],
   "source": [
    "for dataset in os.listdir(PATH_TUTORIAL_DATA):\n",
    "    # -- Set path to file\n",
    "    path_file = os.path.abspath(PATH_TUTORIAL_DATA+dataset)\n",
    "\n",
    "    # -- Upload to S3\n",
    "    bucket.meta.client.upload_file(\n",
    "        Filename=path_file, \n",
    "        Bucket=test_config.data_bucket, \n",
    "        Key=PATH_TUTORIAL_DATA+dataset\n",
    "    )"
   ]
  },
  {
   "cell_type": "markdown",
   "metadata": {},
   "source": [
    "#### Loading data\n",
    "Now, logic must be written for loading data. The easiest way to do so is to write a new function for this that you store in supporting_functions.py, so that it can be used both in this notebook and in the lambda function.\n",
    "\n",
    "If you have your data locally as a CSV file, such a function could be as simple as:\n",
    "\n",
    "```python\n",
    "def load_data(path: str) -> pd.DataFrame:\n",
    "    df_batch = pd.read_csv(path)\n",
    "\n",
    "    return df_batch\n",
    "```\n",
    "\n",
    "However, note that if you transfer this logic to a lambda function, data will most probably have to be downloaded from another location, for example an S3 bucket. Loading logic for such a case could look like:\n",
    "def load_data()\n",
    "\n",
    "```python\n",
    "def load_csv_from_s3(\n",
    "    s3_bucket_client: boto3.resource(\"s3\").Bucket, file_key: str\n",
    ") -> pd.DataFrame:\n",
    "    \"\"\"Function that loads a csv from S3 into a pandas DataFrame\n",
    "\n",
    "    Parameters\n",
    "    ----------\n",
    "    s3_bucket_client : boto3.resource\n",
    "        Instantiated s3 bucket client using boto3. Note that it should already\n",
    "        be pointing to the bucket from which you want to load objects\n",
    "    file_key : str\n",
    "        Key to the channel within the tile to be loaded\n",
    "\n",
    "    Returns\n",
    "    -------\n",
    "    pd.DataFrame\n",
    "        The loaded data as pandas DataFrame\n",
    "    \"\"\"\n",
    "    s3_object = s3_bucket_client.Object(file_key).get()\n",
    "    df_batch = pd.read_csv(s3_object['Body'])\n",
    "\n",
    "    return df_batch\n",
    "```\n",
    "\n",
    "Pay special attention to what inputs this function needs and how it knows what file to load, since this will need to be used in the lambda as well. If you are able to pass the path to the file during runtime when using a lambda (e.g. in the event sent to it), you can simply use that as a parameter of the function.\n"
   ]
  },
  {
   "cell_type": "code",
   "execution_count": null,
   "metadata": {},
   "outputs": [],
   "source": [
    "# ### PUT YOUR DATA LOADING LOGIC HERE\n",
    "# # To generate a testing suite, a batch of data can be used to develop\n",
    "# # validations. Accordingly, in the lines below custom logic is required to load\n",
    "# # a test dataset as a pandas DataFrame in the df_batch argument\n",
    "# # To make the RuntimeBatchRequest complete, which is used by GE for the\n",
    "# # validations, an asset_name and batch_identifier are required\n",
    "# df_batch = load_data()  # Needs to be defined!\n",
    "# batch_identifier = \"BATCH IDENTIFIER OR LOGIC TO GENERATE IT GOES HERE\"\n",
    "# asset_name = \"ASSET NAME OR LOGIC TO GENERATE IT GOES HERE\"\n",
    "\n",
    "# -- Get object keys from S3, sort, pick oldest\n",
    "list_objects = get_file_keys_from_s3(s3_client, test_config.data_bucket, PATH_TUTORIAL_DATA)\n",
    "list_objects.sort()\n",
    "asset_name = list_objects[0]\n",
    "\n",
    "# -- Load dataset\n",
    "# path_batch_object = f\"s3://{test_config.data_bucket}/{asset_name}\"\n",
    "# df_batch = load_data(path_batch_object)\n",
    "# batch_identifier = \"tutorial_batch_dataset\""
   ]
  },
  {
   "cell_type": "code",
   "execution_count": null,
   "metadata": {},
   "outputs": [],
   "source": [
    "load_csv_from_s3_2(bucket, )"
   ]
  },
  {
   "cell_type": "markdown",
   "metadata": {},
   "source": [
    "#### Generate batch request, generate suite and start validator\n",
    "When you have succesfully written logic to load data, the loaded batch will be passed to a RuntimeBatchRequest below in order to start an expectation suite. Great Expectations requires data to be passed as a request when you want to use the context to generate things such as expectation suites and checkpoints. The RunetimeBatchRequest is used here, because we are loading data (with our own logic) at runtime and want to pass that to subsequent objects.\n",
    "\n",
    "Using the RuntimeBatchRequest, a suite and validator are initiated and you can start writing expectations in the next cells\n"
   ]
  },
  {
   "cell_type": "code",
   "execution_count": null,
   "metadata": {},
   "outputs": [],
   "source": [
    "# -- 3. Generate batch request at runtime using loaded tile\n",
    "batch_request = RuntimeBatchRequest(\n",
    "    datasource_name=\"runtime_data\",\n",
    "    data_connector_name=\"runtime_data_connector\",\n",
    "    data_asset_name=asset_name,\n",
    "    runtime_parameters={\"batch_data\": df_batch},\n",
    "    batch_identifiers={\"batch_identifier\": batch_identifier,},\n",
    ")\n",
    "\n",
    "# -- 4. Generate suite, start validator\n",
    "suite = context.create_expectation_suite(\n",
    "    test_config.expectations_suite_name,\n",
    "    overwrite_existing=True,  \n",
    ")\n",
    "\n",
    "validator = context.get_validator(\n",
    "    batch_request=batch_request,\n",
    "    expectation_suite_name=test_config.expectations_suite_name,\n",
    ")"
   ]
  },
  {
   "cell_type": "markdown",
   "metadata": {},
   "source": [
    "#### Expectations\n",
    "Using the validator object, expectations can be formulated below. Since Great Expectations comes with many expectations out of the box, [this page](https://greatexpectations.io/expectations) is generally a good place to start browsing through these. \n",
    "\n",
    "Predefined expectations can be used by calling them using the validator object and passing the required arguments. For example, to run an expectation on the number of rows in a dataframe, the following snippet can be used:\n",
    "\n",
    "```python\n",
    "# Get number of rows of current batch\n",
    "row_count = df_batch.shape[0]\n",
    "\n",
    "# Make expectation where the maximum deviation from the batch number of rows is 1%\n",
    "max_delta = 0.01\n",
    "validator.expect_table_row_count_to_be_between(\n",
    "    min_value=row_count * (1-max_delta), max_value=row_count * (1+max_delta))\n",
    "```\n",
    "\n",
    "If you want to develop custom expectations, more information can be found about there [here](https://docs.greatexpectations.io/docs/guides/expectations/creating_custom_expectations/overview)"
   ]
  },
  {
   "cell_type": "code",
   "execution_count": null,
   "metadata": {},
   "outputs": [],
   "source": [
    "# -- Table level expectations\n",
    "\n",
    "# -- 1. Expect columns in table\n",
    "expected_columns = df_batch.columns\n",
    "validator.expect_table_columns_to_match_set(\n",
    "    column_set=expected_columns, exact_match=True\n",
    ")\n",
    "\n",
    "# -- 2. Expect row in between range, based on set delta\n",
    "row_count = df_batch.shape[0]\n",
    "validator.expect_table_row_count_to_be_between(\n",
    "    min_value=row_count * (1-ROW_COUNT_DELTA), \n",
    "    max_value=row_count * (1+ROW_COUNT_DELTA),\n",
    ")\n"
   ]
  },
  {
   "cell_type": "code",
   "execution_count": null,
   "metadata": {},
   "outputs": [],
   "source": [
    "# -- Column level expectations\n",
    "\n",
    "# -- 1. Values are never null\n",
    "for column in expected_columns:\n",
    "    validator.expect_column_values_to_not_be_null(column)\n",
    "\n",
    "# -- 2. Date columns are parseable\n",
    "date_columns = [\"tpep_pickup_datetime\", \"tpep_dropoff_datetime\"]\n",
    "for column in date_columns:\n",
    "    validator.expect_column_values_to_be_dateutil_parseable(column)\n",
    "\n",
    "# -- 3. Check dtypes, assuming dtypes of the batch dataset are correct (this is\n",
    "#       something you might rather want to hard-code for real products)\n",
    "dict_dtypes = {}\n",
    "for column, dtype in zip(df_batch.dtypes.index, df_batch.dtypes):\n",
    "    dict_dtypes[column] = str(dtype)\n",
    "\n",
    "for column, dtype in dict_dtypes.items():\n",
    "    validator.expect_column_values_to_be_of_type(column, dtype)\n",
    "\n",
    "# -- 4. Expect values of specific columns to be between lower- and upper bounds\n",
    "dict_bounds = {\"VendorID\":[1,2],\n",
    "              \"payment_type\":[1,4]\n",
    "              }\n",
    "\n",
    "for column, (lower_bound, upper_bound) in dict_bounds.items():\n",
    "    # NOTE: for large datasets, this expectation is really slow. Using seperate tests\n",
    "    # for what the minimum should be and the maximum should be is a lot faster, while\n",
    "    # achieving the same test-wise\n",
    "    validator.expect_column_values_to_be_between(column, lower_bound, upper_bound)"
   ]
  },
  {
   "cell_type": "code",
   "execution_count": null,
   "metadata": {},
   "outputs": [],
   "source": [
    "# -- Dynamic validations\n",
    "test_column = \"passenger_count\"\n",
    "max_passenger_count = df_batch[test_column].max()\n",
    "\n",
    "validator.expect_column_max_to_be_between(\n",
    "    column=test_column,\n",
    "    min_value={\n",
    "        \"$PARAMETER\": \"min_max_passenger_count\",\n",
    "        \"$PARAMETER.min_max_passenger_count\": max_passenger_count\n",
    "        },\n",
    "    max_value={\n",
    "        \"$PARAMETER\": \"max_max_passenger_count\",\n",
    "        \"$PARAMETER.max_max_passenger_count\": max_passenger_count+2\n",
    "        },\n",
    ")"
   ]
  },
  {
   "cell_type": "markdown",
   "metadata": {},
   "source": [
    "#### Finalize suite and create checkpoint\n",
    "After running all the expectations that you want to apply to the data, the cell below can be executed to save the set of expectations as a suite and couple it with a checkpoint. This checkpoint can be used in other scripts (lambda_function.py) by passing a new batch of data (as RuntimeBatchRequest) along with the checkpoint name to the `run_checkpoint` method of an initialized DataContext (which is the same as the `context` object initialized in this notebook. Such a call would look like:\n",
    "\n",
    "```python\n",
    "results = context.run_checkpoint(\n",
    "    checkpoint_name=\"CONFIG_NAME\",\n",
    "    validations=[{\"batch_request\": batch_request}],\n",
    "    )\n",
    "```\n",
    "\n",
    "**NOTE**: you should choose what kind of checkpoint you want to use below: one with or without automatic Data Docs updates\n",
    "\n",
    "When the code below is ran, Great Expectations automatically saves the expectation suite and checkpoint to S3 via the validator and context objects."
   ]
  },
  {
   "cell_type": "code",
   "execution_count": null,
   "metadata": {},
   "outputs": [],
   "source": [
    "# -- 6. Save suite\n",
    "validator.save_expectation_suite(discard_failed_expectations=False)\n",
    "\n",
    "# -- 7. Create checkpoint\n",
    "#       Two options are provided here for creating a checkpoint: \n",
    "#       1. Use a SimpleCheckpoint, which contains an action to automatically update the\n",
    "#          Data Docs website whenever a validation is run\n",
    "#       2. Use checkpoint_without_datadocs_update, which generates the same\n",
    "#          SimpleCheckpoint but without an automatic Data Docs update action. This is\n",
    "#          useful if you run many validations (1000+) in parallel, since rendering the\n",
    "#          Data Docs website becomes very slow in that case          \n",
    "\n",
    "# -- 7.1 Create Simple checkpoint with automatic data docs updates (DEFAULT)\n",
    "checkpoint_config = {\n",
    "    \"name\": test_config.checkpoint_name,\n",
    "    \"config_version\": 3,\n",
    "    \"class_name\": \"SimpleCheckpoint\",\n",
    "    \"expectation_suite_name\": test_config.expectations_suite_name,\n",
    "    \"run_name_template\": test_config.run_name_template,\n",
    "}\n",
    "\n",
    "# -- 7.2 Create checkpoint without automatic data docs update\n",
    "# checkpoint_config = checkpoint_without_datadocs_update(test_config)\n",
    "\n",
    "context.add_checkpoint(**checkpoint_config)"
   ]
  },
  {
   "cell_type": "markdown",
   "metadata": {},
   "source": [
    "#### Instantiate Data Docs website\n",
    "Next, the command below can be ran to build the Data Docs website on S3, which provides an interactive user interface in which you can browse through expectation suites and check validation results. More on Data Docs can be found [here](https://docs.greatexpectations.io/docs/reference/data_docs/)\n",
    "\n",
    "In general, if you generate the website once, new validations should automatically be loaded onto it. If the website start lagging behind, just rerun the command below."
   ]
  },
  {
   "cell_type": "code",
   "execution_count": null,
   "metadata": {},
   "outputs": [],
   "source": [
    "ge_site_output = context.build_data_docs()\n",
    "print_ge_site_link(ge_site_output)"
   ]
  },
  {
   "cell_type": "markdown",
   "metadata": {},
   "source": [
    "#### Invoke Lambdas"
   ]
  },
  {
   "cell_type": "code",
   "execution_count": null,
   "metadata": {},
   "outputs": [],
   "source": [
    "# -- Initialize client\n",
    "lambda_client = boto3.client('lambda', region_name='eu-west-1')\n",
    "\n",
    "# -- Get object keys from S3, sort, pick oldest\n",
    "list_objects_lambda = list_objects[1:]\n",
    "\n",
    "# -- Invoke lambdas\n",
    "responses = tutorial_invoke_lambdas(lambda_client, list_objects_lambda)"
   ]
  },
  {
   "cell_type": "code",
   "execution_count": null,
   "metadata": {},
   "outputs": [],
   "source": [
    "print_ge_site_link(ge_site_output)"
   ]
  },
  {
   "cell_type": "markdown",
   "metadata": {},
   "source": [
    "#### Stop Jupyter server\n",
    "After running all commands above and generating an expectation suite, checkpoint and website, run the command below to stop the Jupyter server from running"
   ]
  },
  {
   "cell_type": "code",
   "execution_count": null,
   "metadata": {},
   "outputs": [],
   "source": [
    "os.system(\"jupyter notebook stop\")"
   ]
  }
 ],
 "metadata": {
  "interpreter": {
   "hash": "ac66d493e7f5b77570bf12773b6869115396db7e1354e535321961352045d874"
  },
  "kernelspec": {
   "display_name": "Python 3.8.13 ('grater_expectations_2')",
   "language": "python",
   "name": "python3"
  },
  "language_info": {
   "codemirror_mode": {
    "name": "ipython",
    "version": 3
   },
   "file_extension": ".py",
   "mimetype": "text/x-python",
   "name": "python",
   "nbconvert_exporter": "python",
   "pygments_lexer": "ipython3",
   "version": "3.8.13"
  }
 },
 "nbformat": 4,
 "nbformat_minor": 2
}
